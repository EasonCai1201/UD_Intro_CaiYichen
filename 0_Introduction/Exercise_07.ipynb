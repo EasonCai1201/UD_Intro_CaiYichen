{
 "cells": [
  {
   "cell_type": "code",
   "execution_count": 1,
   "id": "f5363c4a",
   "metadata": {},
   "outputs": [
    {
     "name": "stdout",
     "output_type": "stream",
     "text": [
      "inputed num15\n",
      "Your guess_number is bigger than the number\n",
      "inputed num10\n",
      "Your guess_number is bigger than the number\n",
      "inputed num5\n",
      "Your guess_number is smaller than the number\n",
      "inputed num7\n",
      "Your guess_number is smaller than the number\n",
      "inputed num8\n",
      "You guessed it right！\n",
      "Congratulations on your guess.You guessed it 5 times in total.\n"
     ]
    }
   ],
   "source": [
    "import random\n",
    "num = random.randint(1,20)\n",
    "count = 0\n",
    "flag = True\n",
    "while flag:\n",
    "    guess_num = int(input(\"inputed num\"))\n",
    "    count += 1\n",
    "    if guess_num == num:\n",
    "        print(\"You guessed it right！\")\n",
    "        flag = False\n",
    "    else:\n",
    "        if guess_num < num:\n",
    "            print(\"Your guess_number is smaller than the number\")\n",
    "        else:\n",
    "            print(\"Your guess_number is bigger than the number\")\n",
    "\n",
    "print(f\"Congratulations on your guess.You guessed it {count} times in total.\")"
   ]
  },
  {
   "cell_type": "code",
   "execution_count": null,
   "id": "ecc98ca5",
   "metadata": {},
   "outputs": [],
   "source": []
  }
 ],
 "metadata": {
  "kernelspec": {
   "display_name": "Python 3 (ipykernel)",
   "language": "python",
   "name": "python3"
  },
  "language_info": {
   "codemirror_mode": {
    "name": "ipython",
    "version": 3
   },
   "file_extension": ".py",
   "mimetype": "text/x-python",
   "name": "python",
   "nbconvert_exporter": "python",
   "pygments_lexer": "ipython3",
   "version": "3.11.5"
  }
 },
 "nbformat": 4,
 "nbformat_minor": 5
}
