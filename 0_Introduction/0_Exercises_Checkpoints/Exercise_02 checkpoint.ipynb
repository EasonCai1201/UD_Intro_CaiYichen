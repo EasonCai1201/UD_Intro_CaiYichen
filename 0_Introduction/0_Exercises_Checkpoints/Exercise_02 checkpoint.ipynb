{
 "cells": [
  {
   "cell_type": "code",
   "execution_count": 2,
   "id": "0b678266",
   "metadata": {},
   "outputs": [
    {
     "name": "stdout",
     "output_type": "stream",
     "text": [
      "Cai Yichen\n",
      "ucbvy78@ucl.ac.uk\n",
      "23\n",
      "Cai Yichen\n",
      "ucbvy78@ucl.ac.uk\n",
      "23\n"
     ]
    }
   ],
   "source": [
    "name = \"Cai Yichen\"\n",
    "email = \"ucbvy78@ucl.ac.uk\"\n",
    "age = \"23\"\n",
    "print(name)\n",
    "print(email)\n",
    "print(age)\n",
    "print(name + '\\n' + email + '\\n' + age)"
   ]
  },
  {
   "cell_type": "code",
   "execution_count": null,
   "id": "fd5196b0",
   "metadata": {},
   "outputs": [],
   "source": []
  }
 ],
 "metadata": {
  "kernelspec": {
   "display_name": "Python 3 (ipykernel)",
   "language": "python",
   "name": "python3"
  },
  "language_info": {
   "codemirror_mode": {
    "name": "ipython",
    "version": 3
   },
   "file_extension": ".py",
   "mimetype": "text/x-python",
   "name": "python",
   "nbconvert_exporter": "python",
   "pygments_lexer": "ipython3",
   "version": "3.11.5"
  }
 },
 "nbformat": 4,
 "nbformat_minor": 5
}
