{
 "cells": [
  {
   "cell_type": "code",
   "execution_count": 1,
   "id": "5bcabd75",
   "metadata": {},
   "outputs": [
    {
     "name": "stdout",
     "output_type": "stream",
     "text": [
      "input a number6\n",
      "     *\n",
      "    ***\n",
      "   *****\n",
      "  *******\n",
      " *********\n",
      "***********\n",
      "     |\n"
     ]
    }
   ],
   "source": [
    "x = int(input(\"input a number\"))\n",
    "list1 = list(range(1,x+1))\n",
    "for i in list1:\n",
    "    y = 2 * i - 1\n",
    "    t = x - i\n",
    "    print(\" \"*t + \"*\"*y)\n",
    "print(' '*(x-1)+\"|\")"
   ]
  },
  {
   "cell_type": "code",
   "execution_count": null,
   "id": "62f6dc25",
   "metadata": {},
   "outputs": [],
   "source": []
  }
 ],
 "metadata": {
  "kernelspec": {
   "display_name": "Python 3 (ipykernel)",
   "language": "python",
   "name": "python3"
  },
  "language_info": {
   "codemirror_mode": {
    "name": "ipython",
    "version": 3
   },
   "file_extension": ".py",
   "mimetype": "text/x-python",
   "name": "python",
   "nbconvert_exporter": "python",
   "pygments_lexer": "ipython3",
   "version": "3.11.5"
  }
 },
 "nbformat": 4,
 "nbformat_minor": 5
}
