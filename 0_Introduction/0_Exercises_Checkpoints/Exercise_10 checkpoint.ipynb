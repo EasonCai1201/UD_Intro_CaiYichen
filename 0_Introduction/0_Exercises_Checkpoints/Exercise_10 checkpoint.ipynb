{
 "cells": [
  {
   "cell_type": "code",
   "execution_count": 1,
   "id": "ee5ee8af",
   "metadata": {},
   "outputs": [
    {
     "name": "stdout",
     "output_type": "stream",
     "text": [
      "input a number10\n",
      "[1, 1, 2, 2, 3, 4, 5, 7, 9, 12]\n"
     ]
    }
   ],
   "source": [
    "i = int(input(\"input a number\"))\n",
    "t = 4\n",
    "if i<4:\n",
    "    if i == 1:\n",
    "        print(1)\n",
    "    elif i == 2:\n",
    "        print(\"1,1\")\n",
    "    else:\n",
    "        print(\"1,1,2\")\n",
    "list1=[1,1,2]\n",
    "if i >= 4:\n",
    "    while i - t >=0:\n",
    "        j = list1[t-3]+list1[t-4]\n",
    "        list1.append(j)\n",
    "        t=t+1\n",
    "print(list1)"
   ]
  },
  {
   "cell_type": "code",
   "execution_count": null,
   "id": "1d4236c8",
   "metadata": {},
   "outputs": [],
   "source": []
  }
 ],
 "metadata": {
  "kernelspec": {
   "display_name": "Python 3 (ipykernel)",
   "language": "python",
   "name": "python3"
  },
  "language_info": {
   "codemirror_mode": {
    "name": "ipython",
    "version": 3
   },
   "file_extension": ".py",
   "mimetype": "text/x-python",
   "name": "python",
   "nbconvert_exporter": "python",
   "pygments_lexer": "ipython3",
   "version": "3.11.5"
  }
 },
 "nbformat": 4,
 "nbformat_minor": 5
}
