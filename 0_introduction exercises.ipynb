{
 "cells": [
  {
   "cell_type": "code",
   "execution_count": 8,
   "id": "b93d309c",
   "metadata": {},
   "outputs": [
    {
     "name": "stdout",
     "output_type": "stream",
     "text": [
      "Introduction to Programming\n"
     ]
    }
   ],
   "source": [
    "# Exercise 00\n",
    "\n",
    "print(\"Introduction to Programming\")"
   ]
  },
  {
   "cell_type": "code",
   "execution_count": 14,
   "id": "79f3291d",
   "metadata": {},
   "outputs": [
    {
     "name": "stdout",
     "output_type": "stream",
     "text": [
      "Cai Yichen\n",
      "ucbvy78@ucl.ac.uk\n",
      "23\n",
      "Cai Yichen\n",
      "ucbvy78@ucl.ac.uk\n",
      "23\n"
     ]
    }
   ],
   "source": [
    "# Exercise 02\n",
    "\n",
    "name = \"Cai Yichen\"\n",
    "email = \"ucbvy78@ucl.ac.uk\"\n",
    "age = \"23\"\n",
    "print(name)\n",
    "print(email)\n",
    "print(age)\n",
    "print(name + '\\n' + email + '\\n' + age)"
   ]
  },
  {
   "cell_type": "code",
   "execution_count": 9,
   "id": "0139416a",
   "metadata": {},
   "outputs": [
    {
     "name": "stdout",
     "output_type": "stream",
     "text": [
      "0.0\n",
      "3.63265306122449\n",
      "-0.42857142857142855\n",
      "59.95918367346939\n",
      "4337328\n",
      "3833759992447475122176\n"
     ]
    }
   ],
   "source": [
    "# Exercise 03\n",
    "\n",
    "print(0 / 49)\n",
    "print(178 / 49)\n",
    "print(-21 / 49)\n",
    "print(2938 / 49)\n",
    "print(436 * 9948)\n",
    "print(12 **20)"
   ]
  },
  {
   "cell_type": "code",
   "execution_count": 2,
   "id": "992e9400",
   "metadata": {},
   "outputs": [
    {
     "name": "stdout",
     "output_type": "stream",
     "text": [
      "-0.8732972972139946\n",
      "0.8623188722876839\n",
      "0.9999999999999999\n"
     ]
    }
   ],
   "source": [
    "# Exercise 04\n",
    "# Print sin(200), cos(100), tan(/4)\n",
    "import math\n",
    "print(math.sin(200))\n",
    "print(math.cos(100))\n",
    "print(math.tan(math.pi/4))"
   ]
  },
  {
   "cell_type": "code",
   "execution_count": 4,
   "id": "f42cbbf9",
   "metadata": {},
   "outputs": [
    {
     "name": "stdout",
     "output_type": "stream",
     "text": [
      "Cai\n",
      "Yichen\n",
      "Cai Yichen\n"
     ]
    }
   ],
   "source": [
    "# Exercise 05\n",
    "\n",
    "last_name = \"Cai\"\n",
    "first_name = \"Yichen\"\n",
    "print(last_name)\n",
    "print(first_name)\n",
    "print(last_name+\" \"+first_name)"
   ]
  },
  {
   "cell_type": "code",
   "execution_count": 17,
   "id": "b027f789",
   "metadata": {},
   "outputs": [
    {
     "name": "stdout",
     "output_type": "stream",
     "text": [
      "inputed num-2\n",
      "the inputed num is negative\n"
     ]
    }
   ],
   "source": [
    "# Exercise 06\n",
    "\n",
    "num = int(input(\"inputed num\"))\n",
    "if num > 0:\n",
    "    print(\"the inputed num is positive\")\n",
    "elif num < 0:\n",
    "    print(\"the inputed num is negative\")\n",
    "else:\n",
    "    print(\"0 is neither positive nor negative\")"
   ]
  },
  {
   "cell_type": "code",
   "execution_count": 18,
   "id": "e3ad44be",
   "metadata": {},
   "outputs": [
    {
     "name": "stdout",
     "output_type": "stream",
     "text": [
      "inputed num5\n",
      "Your guess_number is smaller than the number\n",
      "inputed num14\n",
      "Your guess_number is bigger than the number\n",
      "inputed num10\n",
      "Your guess_number is smaller than the number\n",
      "inputed num12\n",
      "Your guess_number is smaller than the number\n",
      "inputed num13\n",
      "You guessed it right！\n",
      "Congratulations on your guess.You guessed it 5 times in total.\n"
     ]
    }
   ],
   "source": [
    "# Exercise 07\n",
    "import random\n",
    "num = random.randint(1,20)\n",
    "count = 0\n",
    "flag = True\n",
    "while flag:\n",
    "    guess_num = int(input(\"inputed num\"))\n",
    "    count += 1\n",
    "    if guess_num == num:\n",
    "        print(\"You guessed it right！\")\n",
    "        flag = False\n",
    "    else:\n",
    "        if guess_num < num:\n",
    "            print(\"Your guess_number is smaller than the number\")\n",
    "        else:\n",
    "            print(\"Your guess_number is bigger than the number\")\n",
    "\n",
    "print(f\"Congratulations on your guess.You guessed it {count} times in total.\")"
   ]
  },
  {
   "cell_type": "code",
   "execution_count": null,
   "id": "661e13ca",
   "metadata": {},
   "outputs": [],
   "source": [
    "# Exercise 08\n",
    "i = input('input a sentence: ')\n",
    "List1 = i.split()\n",
    "List1.sort()\n",
    "print(List1)\n",
    "\n",
    "for i in List1:\n",
    "    print(i)"
   ]
  },
  {
   "cell_type": "code",
   "execution_count": 5,
   "id": "a0d9f805",
   "metadata": {},
   "outputs": [
    {
     "name": "stdout",
     "output_type": "stream",
     "text": [
      "input a number4\n",
      "   *\n",
      "  ***\n",
      " *****\n",
      "*******\n",
      "   |\n"
     ]
    }
   ],
   "source": [
    "# Exercise 09\n",
    "x = int(input(\"input a number\"))\n",
    "list1 = list(range(1,x+1))\n",
    "for i in list1:\n",
    "    y = 2 * i - 1\n",
    "    t = x - i\n",
    "    print(\" \"*t + \"*\"*y)\n",
    "print(' '*(x-1)+\"|\")"
   ]
  },
  {
   "cell_type": "code",
   "execution_count": 7,
   "id": "c2c4d019",
   "metadata": {},
   "outputs": [
    {
     "name": "stdout",
     "output_type": "stream",
     "text": [
      "input a number9\n",
      "[1, 1, 2, 2, 3, 4, 5, 7, 9]\n"
     ]
    }
   ],
   "source": [
    "# Exercise 10\n",
    "i = int(input(\"input a number\"))\n",
    "t = 4\n",
    "if i<4:\n",
    "    if i == 1:\n",
    "        print(1)\n",
    "    elif i == 2:\n",
    "        print(\"1,1\")\n",
    "    else:\n",
    "        print(\"1,1,2\")\n",
    "list1=[1,1,2]\n",
    "if i >= 4:\n",
    "    while i - t >=0:\n",
    "        j = list1[t-3]+list1[t-4]\n",
    "        list1.append(j)\n",
    "        t=t+1\n",
    "print(list1)"
   ]
  },
  {
   "cell_type": "code",
   "execution_count": null,
   "id": "38ae489b",
   "metadata": {},
   "outputs": [],
   "source": []
  }
 ],
 "metadata": {
  "kernelspec": {
   "display_name": "Python 3 (ipykernel)",
   "language": "python",
   "name": "python3"
  },
  "language_info": {
   "codemirror_mode": {
    "name": "ipython",
    "version": 3
   },
   "file_extension": ".py",
   "mimetype": "text/x-python",
   "name": "python",
   "nbconvert_exporter": "python",
   "pygments_lexer": "ipython3",
   "version": "3.11.5"
  }
 },
 "nbformat": 4,
 "nbformat_minor": 5
}
