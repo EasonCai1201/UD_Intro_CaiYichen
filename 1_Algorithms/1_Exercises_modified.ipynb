{
 "cells": [
  {
   "cell_type": "markdown",
   "id": "38e188a5",
   "metadata": {},
   "source": [
    "# Exercise 00\n",
    "Write a piece of code that allocates a list of 20 integers and initializes each element by its index multiplied by 5. Print the result."
   ]
  },
  {
   "cell_type": "code",
   "execution_count": 1,
   "id": "01aa4f35",
   "metadata": {},
   "outputs": [
    {
     "name": "stdout",
     "output_type": "stream",
     "text": [
      "please input your number1\n",
      "[5, 10, 15, 20, 25, 30, 35, 40, 45, 50, 55, 60, 65, 70, 75, 80, 85, 90, 95, 100]\n"
     ]
    }
   ],
   "source": [
    "List = []\n",
    "x = int(input(\"please input your number\"))\n",
    "for i in range(x,x+20):\n",
    "    List.append(i*5)\n",
    "print(List)\n"
   ]
  },
  {
   "cell_type": "markdown",
   "id": "529d91ae",
   "metadata": {},
   "source": [
    "# Exercise 01\n",
    "Define a function that takes an integer as input, prints  all integers that it is divisable by, and returns the largest one."
   ]
  },
  {
   "cell_type": "code",
   "execution_count": 13,
   "id": "30e79132",
   "metadata": {},
   "outputs": [
    {
     "name": "stdout",
     "output_type": "stream",
     "text": [
      "1\n",
      "2\n",
      "4\n",
      "5\n",
      "10\n"
     ]
    },
    {
     "data": {
      "text/plain": [
       "10"
      ]
     },
     "execution_count": 13,
     "metadata": {},
     "output_type": "execute_result"
    }
   ],
   "source": [
    "def divided(n):\n",
    "    list_1 = []\n",
    "    for i in range(1,int(n/2) + 1):\n",
    "        if n % i == 0:\n",
    "            print(i)\n",
    "    return i\n",
    "    \n",
    "divided(20)\n",
    "            "
   ]
  },
  {
   "cell_type": "markdown",
   "id": "cfbe30d4",
   "metadata": {},
   "source": [
    "# Exercise 02\n",
    "- create a dictionary with 6 keys and values of your choice\n",
    "- write a function that takes a dictionary and a value as input and returns whether the value occurs as a key in the dictionary\n",
    "- write a function that takes a dictionary as input, and returns the dictionary but the keys are swapped with their values (resolve the issue if a value occurs twice!)"
   ]
  },
  {
   "cell_type": "code",
   "execution_count": 27,
   "id": "2123f1c6",
   "metadata": {},
   "outputs": [
    {
     "data": {
      "text/plain": [
       "{1: 'a', 2: ['b', 'd'], 3: 'c'}"
      ]
     },
     "execution_count": 27,
     "metadata": {},
     "output_type": "execute_result"
    }
   ],
   "source": [
    "dict = {\n",
    "    'name':'caiyichen',\n",
    "    'age':'23',\n",
    "    'year':'2023',\n",
    "    'x':'1',\n",
    "    'y':'2',\n",
    "    'z':'3'}\n",
    "def fun_1(d,k):\n",
    "    for i in d.keys():\n",
    "        if i == k:\n",
    "            return True\n",
    "    return False\n",
    "fun_1(dict,\"name\")\n",
    "\n",
    "def fun_2(d):\n",
    "    new_dict = {}\n",
    "    for i in d.keys():\n",
    "        new_dict[d[i]] = i\n",
    "    return new_dict\n",
    "\n",
    "fun_2(dict)\n",
    "\n",
    "dict1 = {'a':1, 'b':2, 'c':3, 'd':2}\n",
    "def fun_3(d):\n",
    "    new_dict = {}\n",
    "    for i in d.keys():\n",
    "        if fun_1(new_dict,d[i]):\n",
    "            cover_value = new_dict[d[i]]\n",
    "            new_value = [cover_value,i]\n",
    "            new_dict[d[i]] = new_value\n",
    "        else:\n",
    "            new_dict[d[i]] = i\n",
    "    return new_dict\n",
    "fun_3(dict1)"
   ]
  },
  {
   "cell_type": "markdown",
   "id": "b4b4e426",
   "metadata": {},
   "source": [
    "# Exercise 03\n",
    "Define a function that creates a dictionary of the first n fibonacci numbers as values paired with their indices as keys. "
   ]
  },
  {
   "cell_type": "code",
   "execution_count": 29,
   "id": "7845b5a4",
   "metadata": {},
   "outputs": [
    {
     "data": {
      "text/plain": [
       "{0: 0, 1: 1, 2: 1, 3: 2}"
      ]
     },
     "execution_count": 29,
     "metadata": {},
     "output_type": "execute_result"
    }
   ],
   "source": [
    "def fibonacci(n):\n",
    "    p0 = 0\n",
    "    p1 =1\n",
    "    dict = {}\n",
    "    for i in range(n):\n",
    "        dict[i] = p0\n",
    "        t = p0 + p1\n",
    "        p0 = p1\n",
    "        p1 = t\n",
    "    return dict\n",
    "fibonacci(4)"
   ]
  },
  {
   "cell_type": "code",
   "execution_count": null,
   "id": "8bd37469",
   "metadata": {},
   "outputs": [],
   "source": []
  }
 ],
 "metadata": {
  "kernelspec": {
   "display_name": "Python 3 (ipykernel)",
   "language": "python",
   "name": "python3"
  },
  "language_info": {
   "codemirror_mode": {
    "name": "ipython",
    "version": 3
   },
   "file_extension": ".py",
   "mimetype": "text/x-python",
   "name": "python",
   "nbconvert_exporter": "python",
   "pygments_lexer": "ipython3",
   "version": "3.8.18"
  }
 },
 "nbformat": 4,
 "nbformat_minor": 5
}
