{
 "cells": [
  {
   "cell_type": "markdown",
   "id": "38e188a5",
   "metadata": {},
   "source": [
    "# Exercise 00\n",
    "Write a piece of code that allocates a list of 20 integers and initializes each element by its index multiplied by 5. Print the result."
   ]
  },
  {
   "cell_type": "code",
   "execution_count": 1,
   "id": "5fb45362",
   "metadata": {},
   "outputs": [
    {
     "name": "stdout",
     "output_type": "stream",
     "text": [
      "please input a number :15\n",
      "[1, 3, 5, 15]\n"
     ]
    }
   ],
   "source": [
    "x = int(input(\"please input a number :\"))\n",
    "i = 1\n",
    "list = []\n",
    "while i <= x:\n",
    "    if x % i == 0:\n",
    "        list.append(i)\n",
    "    i += 1\n",
    "\n",
    "print(list)"
   ]
  },
  {
   "cell_type": "markdown",
   "id": "f9340f1b",
   "metadata": {},
   "source": [
    "# Exercise 01\n",
    "Define a function that takes an integer as input, prints  all integers that it is divisable by, and returns the largest one."
   ]
  },
  {
   "cell_type": "code",
   "execution_count": 2,
   "id": "30e79132",
   "metadata": {},
   "outputs": [
    {
     "name": "stdout",
     "output_type": "stream",
     "text": [
      "please input a number :16\n",
      "[1, 2, 4, 8, 16]\n",
      "16\n"
     ]
    }
   ],
   "source": [
    "def fun():\n",
    "    x = int(input(\"please input a number :\"))\n",
    "    list = []\n",
    "    for i in range(1,x+1):\n",
    "        if x % i == 0:\n",
    "            list.append(i)\n",
    "            result = list[len(list) -1]\n",
    "\n",
    "    print(list)\n",
    "    print(result)\n",
    "\n",
    "fun()\n",
    "\n"
   ]
  },
  {
   "cell_type": "markdown",
   "id": "cfbe30d4",
   "metadata": {},
   "source": [
    "# Exercise 02\n",
    "- create a dictionary with 6 keys and values of your choice\n",
    "- write a function that takes a dictionary and a value as input and returns whether the value occurs as a key in the dictionary\n",
    "- write a function that takes a dictionary as input, and returns the dictionary but the keys are swapped with their values (resolve the issue if a value occurs twice!)"
   ]
  },
  {
   "cell_type": "code",
   "execution_count": null,
   "id": "2123f1c6",
   "metadata": {},
   "outputs": [],
   "source": [
    "dict = {\n",
    "    'name':'caiyichen',\n",
    "    'age':'23',\n",
    "    'year':'2023',\n",
    "    'x':'1',\n",
    "    'y':'2',\n",
    "    'z':'3'}\n",
    "def value1():\n",
    "    e = input(\"input your key\")\n",
    "    if e in dict:\n",
    "        value = dict{\"e\"}\n",
    "        print(value)\n",
    "    else:\n",
    "        print(\"the value dosen’t occurs as a key in the dictionary\")\n",
    "\n",
    "        \n",
    "def x():\n",
    "    index = 0\n",
    "    if index < len(dict):\n",
    "        i = dict[index][0]\n",
    "        dict[index][0] = dict[index][1]\n",
    "        dict[index][1] = i\n",
    "        index += 1\n",
    "    return i\n",
    "x()"
   ]
  },
  {
   "cell_type": "markdown",
   "id": "b4b4e426",
   "metadata": {},
   "source": [
    "# Exercise 03\n",
    "Define a function that creates a dictionary of the first n fibonacci numbers as values paired with their indices as keys. "
   ]
  },
  {
   "cell_type": "code",
   "execution_count": 3,
   "id": "7845b5a4",
   "metadata": {},
   "outputs": [
    {
     "name": "stdout",
     "output_type": "stream",
     "text": [
      "5\n",
      "{'1': '1', '2': '1', '3': '2', '4': '3', '5': '5'}\n"
     ]
    }
   ],
   "source": [
    "def fun_3():\n",
    "    n = int(input())\n",
    "    dic = {}\n",
    "    p0 = 0\n",
    "    p1 = 1\n",
    "    i = 1\n",
    "    while i <= n:\n",
    "        m = p1\n",
    "        p1 = p0 + m\n",
    "        p0 = m\n",
    "        dic[f'{i}'] = f'{p0}'\n",
    "        i += 1\n",
    "    print(dic)\n",
    "\n",
    "\n",
    "fun_3()"
   ]
  },
  {
   "cell_type": "code",
   "execution_count": null,
   "id": "1ee00d79",
   "metadata": {},
   "outputs": [],
   "source": []
  },
  {
   "cell_type": "code",
   "execution_count": null,
   "id": "2479530d",
   "metadata": {},
   "outputs": [],
   "source": []
  }
 ],
 "metadata": {
  "kernelspec": {
   "display_name": "Python 3 (ipykernel)",
   "language": "python",
   "name": "python3"
  },
  "language_info": {
   "codemirror_mode": {
    "name": "ipython",
    "version": 3
   },
   "file_extension": ".py",
   "mimetype": "text/x-python",
   "name": "python",
   "nbconvert_exporter": "python",
   "pygments_lexer": "ipython3",
   "version": "3.8.18"
  }
 },
 "nbformat": 4,
 "nbformat_minor": 5
}
